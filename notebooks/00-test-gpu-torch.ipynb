{
 "cells": [
  {
   "cell_type": "markdown",
   "id": "worst-indonesia",
   "metadata": {},
   "source": []
  },
  {
   "cell_type": "code",
   "execution_count": null,
   "id": "d726d31e",
   "metadata": {},
   "outputs": [],
   "source": [
    "! nvidia-smi\n",
    "! pip install torch"
   ]
  },
  {
   "cell_type": "code",
   "execution_count": null,
   "id": "hazardous-possible",
   "metadata": {},
   "outputs": [],
   "source": [
    "# import pytorch\n",
    "import torch"
   ]
  },
  {
   "cell_type": "code",
   "execution_count": null,
   "id": "consolidated-medication",
   "metadata": {},
   "outputs": [],
   "source": [
    "# check if there are multiple devices (gpu cards)\n",
    "print(torch.cuda.device_count())\n",
    "\n",
    "# 1"
   ]
  },
  {
   "cell_type": "code",
   "execution_count": null,
   "id": "needed-tonight",
   "metadata": {},
   "outputs": [],
   "source": [
    "# which GPU is the current GPU\n",
    "print(torch.cuda.current_device())\n",
    "\n",
    "# 0"
   ]
  },
  {
   "cell_type": "code",
   "execution_count": null,
   "id": "norman-engagement",
   "metadata": {},
   "outputs": [],
   "source": [
    "# Get the name of the current GPU\n",
    "print(torch.cuda.get_device_name(torch.cuda.current_device()))\n",
    "\n",
    "# Tesla V100-PCIE-16GB"
   ]
  },
  {
   "cell_type": "code",
   "execution_count": null,
   "id": "existing-blend",
   "metadata": {},
   "outputs": [],
   "source": [
    "# Is PyTorch using a GPU?\n",
    "print(torch.cuda.is_available())\n",
    "\n",
    "# True"
   ]
  }
 ],
 "metadata": {
  "kernelspec": {
   "display_name": "Python 3",
   "language": "python",
   "name": "python3"
  },
  "language_info": {
   "codemirror_mode": {
    "name": "ipython",
    "version": 3
   },
   "file_extension": ".py",
   "mimetype": "text/x-python",
   "name": "python",
   "nbconvert_exporter": "python",
   "pygments_lexer": "ipython3",
   "version": "3.8.3"
  }
 },
 "nbformat": 4,
 "nbformat_minor": 5
}
