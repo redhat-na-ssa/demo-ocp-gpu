{
 "cells": [
  {
   "cell_type": "markdown",
   "id": "ce10b948",
   "metadata": {},
   "source": [
    "Script to test GPU availability in Tensorflow"
   ]
  },
  {
   "cell_type": "code",
   "execution_count": null,
   "id": "6ee15fc8",
   "metadata": {
    "ExecuteTime": {
     "end_time": "2021-04-05T17:08:26.480557Z",
     "start_time": "2021-04-05T17:08:24.921114Z"
    }
   },
   "outputs": [],
   "source": [
    "! nvidia-smi\n",
    "! pip install tensorflow nvidia-cudnn-cu11"
   ]
  },
  {
   "cell_type": "code",
   "execution_count": null,
   "id": "62dce48b",
   "metadata": {
    "ExecuteTime": {
     "end_time": "2021-04-05T21:27:50.646607Z",
     "start_time": "2021-04-05T21:27:48.767148Z"
    }
   },
   "outputs": [],
   "source": [
    "import tensorflow as tf"
   ]
  },
  {
   "cell_type": "code",
   "execution_count": null,
   "id": "a94566fc",
   "metadata": {
    "ExecuteTime": {
     "end_time": "2021-04-05T21:28:56.536400Z",
     "start_time": "2021-04-05T21:28:56.531156Z"
    }
   },
   "outputs": [],
   "source": [
    "# check GPU availability\n",
    "gpus = tf.config.experimental.list_physical_devices('GPU')\n",
    "for gpu in gpus:\n",
    "    print(\"Name:\", gpu.name, \"  Type:\", gpu.device_type)\n",
    "    \n",
    "# Name: /physical_device:GPU:0   Type: GPU"
   ]
  },
  {
   "cell_type": "code",
   "execution_count": null,
   "id": "8da16412",
   "metadata": {
    "ExecuteTime": {
     "end_time": "2021-04-05T21:29:05.368039Z",
     "start_time": "2021-04-05T21:29:05.341012Z"
    }
   },
   "outputs": [],
   "source": [
    "# list devices including GPUs with tensorflow\n",
    "\n",
    "from tensorflow.python.client import device_lib\n",
    "\n",
    "device_lib.list_local_devices()\n",
    "\n",
    "#  name: \"/device:GPU:0\"\n",
    "#  device_type: \"GPU\"\n",
    "#  memory_limit: 15509618688"
   ]
  },
  {
   "cell_type": "code",
   "execution_count": null,
   "id": "d5662773",
   "metadata": {
    "ExecuteTime": {
     "end_time": "2021-04-05T21:29:13.828962Z",
     "start_time": "2021-04-05T21:29:13.825568Z"
    }
   },
   "outputs": [],
   "source": [
    "# check GPU in tensorflow\n",
    "tf.config.list_physical_devices('GPU')\n",
    "\n",
    "# [PhysicalDevice(name='/physical_device:GPU:0', device_type='GPU')]"
   ]
  }
 ],
 "metadata": {
  "finalized": {
   "timestamp": 1617657866863,
   "trusted": true
  },
  "kernelspec": {
   "display_name": "Python 3",
   "language": "python",
   "name": "python3"
  },
  "language_info": {
   "codemirror_mode": {
    "name": "ipython",
    "version": 3
   },
   "file_extension": ".py",
   "mimetype": "text/x-python",
   "name": "python",
   "nbconvert_exporter": "python",
   "pygments_lexer": "ipython3",
   "version": "3.6.8"
  },
  "toc": {
   "base_numbering": 1,
   "nav_menu": {},
   "number_sections": true,
   "sideBar": true,
   "skip_h1_title": false,
   "title_cell": "Table of Contents",
   "title_sidebar": "Contents",
   "toc_cell": false,
   "toc_position": {},
   "toc_section_display": true,
   "toc_window_display": false
  }
 },
 "nbformat": 4,
 "nbformat_minor": 5
}
